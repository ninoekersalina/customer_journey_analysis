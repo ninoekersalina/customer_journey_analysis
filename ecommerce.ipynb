{
 "cells": [
  {
   "cell_type": "code",
   "execution_count": 1,
   "metadata": {},
   "outputs": [],
   "source": [
    "import numpy as np\n",
    "import pandas as  pd\n",
    "import matplotlib.pyplot as plt\n",
    "import seaborn as sns"
   ]
  },
  {
   "cell_type": "code",
   "execution_count": 2,
   "metadata": {},
   "outputs": [],
   "source": [
    "#upload from file .csv to notebook\n",
    "df=pd.read_csv('/Users/bunda/customer_journey_analysis/ecommerce_customer_data_custom_ratios.csv')"
   ]
  },
  {
   "cell_type": "code",
   "execution_count": 3,
   "metadata": {},
   "outputs": [
    {
     "name": "stdout",
     "output_type": "stream",
     "text": [
      "<class 'pandas.core.frame.DataFrame'>\n",
      "RangeIndex: 250000 entries, 0 to 249999\n",
      "Data columns (total 13 columns):\n",
      " #   Column                 Non-Null Count   Dtype  \n",
      "---  ------                 --------------   -----  \n",
      " 0   Customer ID            250000 non-null  int64  \n",
      " 1   Purchase Date          250000 non-null  object \n",
      " 2   Product Category       250000 non-null  object \n",
      " 3   Product Price          250000 non-null  int64  \n",
      " 4   Quantity               250000 non-null  int64  \n",
      " 5   Total Purchase Amount  250000 non-null  int64  \n",
      " 6   Payment Method         250000 non-null  object \n",
      " 7   Customer Age           250000 non-null  int64  \n",
      " 8   Returns                202404 non-null  float64\n",
      " 9   Customer Name          250000 non-null  object \n",
      " 10  Age                    250000 non-null  int64  \n",
      " 11  Gender                 250000 non-null  object \n",
      " 12  Churn                  250000 non-null  int64  \n",
      "dtypes: float64(1), int64(7), object(5)\n",
      "memory usage: 24.8+ MB\n"
     ]
    }
   ],
   "source": [
    "# data set info\n",
    "df.info()"
   ]
  },
  {
   "cell_type": "code",
   "execution_count": 4,
   "metadata": {},
   "outputs": [
    {
     "data": {
      "text/plain": [
       "(250000, 13)"
      ]
     },
     "execution_count": 4,
     "metadata": {},
     "output_type": "execute_result"
    }
   ],
   "source": [
    "# number of coloumns and rows\n",
    "df.shape"
   ]
  },
  {
   "cell_type": "code",
   "execution_count": 5,
   "metadata": {},
   "outputs": [
    {
     "data": {
      "text/html": [
       "<div>\n",
       "<style scoped>\n",
       "    .dataframe tbody tr th:only-of-type {\n",
       "        vertical-align: middle;\n",
       "    }\n",
       "\n",
       "    .dataframe tbody tr th {\n",
       "        vertical-align: top;\n",
       "    }\n",
       "\n",
       "    .dataframe thead th {\n",
       "        text-align: right;\n",
       "    }\n",
       "</style>\n",
       "<table border=\"1\" class=\"dataframe\">\n",
       "  <thead>\n",
       "    <tr style=\"text-align: right;\">\n",
       "      <th></th>\n",
       "      <th>Customer ID</th>\n",
       "      <th>Product Price</th>\n",
       "      <th>Quantity</th>\n",
       "      <th>Total Purchase Amount</th>\n",
       "      <th>Customer Age</th>\n",
       "      <th>Returns</th>\n",
       "      <th>Age</th>\n",
       "      <th>Churn</th>\n",
       "    </tr>\n",
       "  </thead>\n",
       "  <tbody>\n",
       "    <tr>\n",
       "      <th>count</th>\n",
       "      <td>250000.00000</td>\n",
       "      <td>250000.000000</td>\n",
       "      <td>250000.000000</td>\n",
       "      <td>250000.000000</td>\n",
       "      <td>250000.000000</td>\n",
       "      <td>202404.000000</td>\n",
       "      <td>250000.000000</td>\n",
       "      <td>250000.000000</td>\n",
       "    </tr>\n",
       "    <tr>\n",
       "      <th>mean</th>\n",
       "      <td>25004.03624</td>\n",
       "      <td>254.659512</td>\n",
       "      <td>2.998896</td>\n",
       "      <td>2725.370732</td>\n",
       "      <td>43.940528</td>\n",
       "      <td>0.497861</td>\n",
       "      <td>43.940528</td>\n",
       "      <td>0.199496</td>\n",
       "    </tr>\n",
       "    <tr>\n",
       "      <th>std</th>\n",
       "      <td>14428.27959</td>\n",
       "      <td>141.568577</td>\n",
       "      <td>1.414694</td>\n",
       "      <td>1442.933565</td>\n",
       "      <td>15.350246</td>\n",
       "      <td>0.499997</td>\n",
       "      <td>15.350246</td>\n",
       "      <td>0.399622</td>\n",
       "    </tr>\n",
       "    <tr>\n",
       "      <th>min</th>\n",
       "      <td>1.00000</td>\n",
       "      <td>10.000000</td>\n",
       "      <td>1.000000</td>\n",
       "      <td>100.000000</td>\n",
       "      <td>18.000000</td>\n",
       "      <td>0.000000</td>\n",
       "      <td>18.000000</td>\n",
       "      <td>0.000000</td>\n",
       "    </tr>\n",
       "    <tr>\n",
       "      <th>25%</th>\n",
       "      <td>12497.75000</td>\n",
       "      <td>132.000000</td>\n",
       "      <td>2.000000</td>\n",
       "      <td>1477.000000</td>\n",
       "      <td>31.000000</td>\n",
       "      <td>0.000000</td>\n",
       "      <td>31.000000</td>\n",
       "      <td>0.000000</td>\n",
       "    </tr>\n",
       "    <tr>\n",
       "      <th>50%</th>\n",
       "      <td>25018.00000</td>\n",
       "      <td>255.000000</td>\n",
       "      <td>3.000000</td>\n",
       "      <td>2724.000000</td>\n",
       "      <td>44.000000</td>\n",
       "      <td>0.000000</td>\n",
       "      <td>44.000000</td>\n",
       "      <td>0.000000</td>\n",
       "    </tr>\n",
       "    <tr>\n",
       "      <th>75%</th>\n",
       "      <td>37506.00000</td>\n",
       "      <td>377.000000</td>\n",
       "      <td>4.000000</td>\n",
       "      <td>3974.000000</td>\n",
       "      <td>57.000000</td>\n",
       "      <td>1.000000</td>\n",
       "      <td>57.000000</td>\n",
       "      <td>0.000000</td>\n",
       "    </tr>\n",
       "    <tr>\n",
       "      <th>max</th>\n",
       "      <td>50000.00000</td>\n",
       "      <td>500.000000</td>\n",
       "      <td>5.000000</td>\n",
       "      <td>5350.000000</td>\n",
       "      <td>70.000000</td>\n",
       "      <td>1.000000</td>\n",
       "      <td>70.000000</td>\n",
       "      <td>1.000000</td>\n",
       "    </tr>\n",
       "  </tbody>\n",
       "</table>\n",
       "</div>"
      ],
      "text/plain": [
       "        Customer ID  Product Price       Quantity  Total Purchase Amount   \n",
       "count  250000.00000  250000.000000  250000.000000          250000.000000  \\\n",
       "mean    25004.03624     254.659512       2.998896            2725.370732   \n",
       "std     14428.27959     141.568577       1.414694            1442.933565   \n",
       "min         1.00000      10.000000       1.000000             100.000000   \n",
       "25%     12497.75000     132.000000       2.000000            1477.000000   \n",
       "50%     25018.00000     255.000000       3.000000            2724.000000   \n",
       "75%     37506.00000     377.000000       4.000000            3974.000000   \n",
       "max     50000.00000     500.000000       5.000000            5350.000000   \n",
       "\n",
       "        Customer Age        Returns            Age          Churn  \n",
       "count  250000.000000  202404.000000  250000.000000  250000.000000  \n",
       "mean       43.940528       0.497861      43.940528       0.199496  \n",
       "std        15.350246       0.499997      15.350246       0.399622  \n",
       "min        18.000000       0.000000      18.000000       0.000000  \n",
       "25%        31.000000       0.000000      31.000000       0.000000  \n",
       "50%        44.000000       0.000000      44.000000       0.000000  \n",
       "75%        57.000000       1.000000      57.000000       0.000000  \n",
       "max        70.000000       1.000000      70.000000       1.000000  "
      ]
     },
     "execution_count": 5,
     "metadata": {},
     "output_type": "execute_result"
    }
   ],
   "source": [
    "# Statistical description\n",
    "df.describe()"
   ]
  },
  {
   "cell_type": "code",
   "execution_count": 6,
   "metadata": {},
   "outputs": [
    {
     "data": {
      "text/plain": [
       "Customer ID                  0\n",
       "Purchase Date                0\n",
       "Product Category             0\n",
       "Product Price                0\n",
       "Quantity                     0\n",
       "Total Purchase Amount        0\n",
       "Payment Method               0\n",
       "Customer Age                 0\n",
       "Returns                  47596\n",
       "Customer Name                0\n",
       "Age                          0\n",
       "Gender                       0\n",
       "Churn                        0\n",
       "dtype: int64"
      ]
     },
     "execution_count": 6,
     "metadata": {},
     "output_type": "execute_result"
    }
   ],
   "source": [
    "# checking null values\n",
    "df.isnull().sum()"
   ]
  },
  {
   "cell_type": "code",
   "execution_count": 7,
   "metadata": {},
   "outputs": [],
   "source": [
    "# deleting null values in Returns coloumn\n",
    "df=df[df['Returns'].notna()]"
   ]
  },
  {
   "cell_type": "code",
   "execution_count": 8,
   "metadata": {},
   "outputs": [
    {
     "data": {
      "text/plain": [
       "(202404, 13)"
      ]
     },
     "execution_count": 8,
     "metadata": {},
     "output_type": "execute_result"
    }
   ],
   "source": [
    "df.shape\n",
    "\n",
    "# the number of coloumn changing after deleting null values"
   ]
  },
  {
   "cell_type": "code",
   "execution_count": 9,
   "metadata": {},
   "outputs": [
    {
     "data": {
      "text/plain": [
       "0"
      ]
     },
     "execution_count": 9,
     "metadata": {},
     "output_type": "execute_result"
    }
   ],
   "source": [
    "# checking duplicated values\n",
    "df.duplicated().sum()"
   ]
  },
  {
   "cell_type": "markdown",
   "metadata": {},
   "source": [
    "Exploratory Data Analysis"
   ]
  },
  {
   "cell_type": "code",
   "execution_count": 10,
   "metadata": {},
   "outputs": [
    {
     "data": {
      "text/plain": [
       "0        2020-09-08 09:38:32\n",
       "1        2022-03-05 12:56:35\n",
       "2        2022-05-23 18:18:01\n",
       "3        2020-11-12 13:13:29\n",
       "4        2020-11-27 17:55:11\n",
       "                 ...        \n",
       "249995   2023-08-10 13:39:06\n",
       "249996   2021-11-23 01:30:42\n",
       "249997   2020-07-02 14:04:48\n",
       "249998   2020-12-30 02:02:40\n",
       "249999   2021-03-13 16:28:35\n",
       "Name: Purchase Date, Length: 202404, dtype: datetime64[ns]"
      ]
     },
     "execution_count": 10,
     "metadata": {},
     "output_type": "execute_result"
    }
   ],
   "source": [
    "# Convert date to datetime and to extract day, month, year\n",
    "\n",
    "df['Purchase Date']=pd.to_datetime(df['Purchase Date'])\n",
    "df['Purchase Date']"
   ]
  },
  {
   "cell_type": "markdown",
   "metadata": {},
   "source": []
  },
  {
   "cell_type": "code",
   "execution_count": 11,
   "metadata": {},
   "outputs": [
    {
     "name": "stdout",
     "output_type": "stream",
     "text": [
      "<class 'pandas.core.frame.DataFrame'>\n",
      "Index: 202404 entries, 0 to 249999\n",
      "Data columns (total 12 columns):\n",
      " #   Column                 Non-Null Count   Dtype         \n",
      "---  ------                 --------------   -----         \n",
      " 0   Customer ID            202404 non-null  int64         \n",
      " 1   Purchase Date          202404 non-null  datetime64[ns]\n",
      " 2   Product Category       202404 non-null  object        \n",
      " 3   Product Price          202404 non-null  int64         \n",
      " 4   Quantity               202404 non-null  int64         \n",
      " 5   Total Purchase Amount  202404 non-null  int64         \n",
      " 6   Payment Method         202404 non-null  object        \n",
      " 7   Customer Age           202404 non-null  int64         \n",
      " 8   Returns                202404 non-null  float64       \n",
      " 9   Customer Name          202404 non-null  object        \n",
      " 10  Gender                 202404 non-null  object        \n",
      " 11  Churn                  202404 non-null  int64         \n",
      "dtypes: datetime64[ns](1), float64(1), int64(6), object(4)\n",
      "memory usage: 20.1+ MB\n"
     ]
    }
   ],
   "source": [
    "# deleting coloumn Age since double with Customer Age\n",
    "\n",
    "df.drop(columns='Age', inplace=True)\n",
    "df.info()"
   ]
  },
  {
   "cell_type": "code",
   "execution_count": 12,
   "metadata": {},
   "outputs": [
    {
     "name": "stdout",
     "output_type": "stream",
     "text": [
      "Top 10 Customer Names: ['Dr. Courtney Foster', 'John Davis', 'Cassandra Ingram', 'Lindsay Morse', 'Patricia Petersen', 'Kristen Leon', 'Susan Burton', 'Randall Hobbs', 'Whitney Medina', 'Felicia Escobar']\n"
     ]
    }
   ],
   "source": [
    "# top 10 customers who buy most products\n",
    "top_id=list(df['Customer ID'].value_counts().head(10).index)\n",
    "top10 = df[df['Customer ID'].isin(top_id)]['Customer Name'].unique()\n",
    "print(\"Top 10 Customer Names:\", list(top10))"
   ]
  },
  {
   "cell_type": "code",
   "execution_count": 13,
   "metadata": {},
   "outputs": [
    {
     "name": "stdout",
     "output_type": "stream",
     "text": [
      "The busiest sales day in a week is ['Wednesday']\n"
     ]
    }
   ],
   "source": [
    "# the busiest day in a week\n",
    "\n",
    "df['year']=df['Purchase Date'].dt.year\n",
    "df['month']=df['Purchase Date'].dt.month\n",
    "df['day']=df['Purchase Date'].dt.day_name()\n",
    "\n",
    "sales_day=df['day'].value_counts()\n",
    "\n",
    "most_frequent_day=list(df['day'].value_counts().head(1).index)\n",
    "print(f\"The busiest sales day in a week is {most_frequent_day}\")"
   ]
  },
  {
   "cell_type": "markdown",
   "metadata": {},
   "source": [
    "Visualization in Diagramms"
   ]
  },
  {
   "cell_type": "code",
   "execution_count": 14,
   "metadata": {},
   "outputs": [
    {
     "data": {
      "image/png": "[encoded data removed]",
      "text/plain": [
       "<Figure size 500x500 with 1 Axes>"
      ]
     },
     "metadata": {},
     "output_type": "display_data"
    }
   ],
   "source": [
    "# Presentation of product category\n",
    "product_types_number=df['Product Category'].value_counts()\n",
    "plt.figure(figsize=(5,5))\n",
    "plt.pie(product_types_number, labels=product_types_number.index, autopct='%1.1f%%')\n",
    "plt.title('Product Category Percentages')\n",
    "plt.show()"
   ]
  },
  {
   "cell_type": "code",
   "execution_count": 18,
   "metadata": {},
   "outputs": [
    {
     "data": {
      "image/png": "[encoded data removed]",
      "text/plain": [
       "<Figure size 800x600 with 1 Axes>"
      ]
     },
     "metadata": {},
     "output_type": "display_data"
    }
   ],
   "source": [
    "# most payment method the customers used\n",
    "payment_methods=df['Payment Method'].value_counts()\n",
    "plt.figure(figsize=(8,6))\n",
    "payment_methods.plot(kind='bar')\n",
    "plt.title('Payment Methods', fontsize=15)\n",
    "plt.xlabel(\"Payment Methods\",fontsize=12)\n",
    "plt.ylabel(\"Count\",fontsize=12)\n",
    "plt.xticks(rotation=0)\n",
    "plt.tight_layout()\n",
    "plt.show()"
   ]
  },
  {
   "cell_type": "code",
   "execution_count": 20,
   "metadata": {},
   "outputs": [
    {
     "data": {
      "text/html": [
       "<div>\n",
       "<style scoped>\n",
       "    .dataframe tbody tr th:only-of-type {\n",
       "        vertical-align: middle;\n",
       "    }\n",
       "\n",
       "    .dataframe tbody tr th {\n",
       "        vertical-align: top;\n",
       "    }\n",
       "\n",
       "    .dataframe thead th {\n",
       "        text-align: right;\n",
       "    }\n",
       "</style>\n",
       "<table border=\"1\" class=\"dataframe\">\n",
       "  <thead>\n",
       "    <tr style=\"text-align: right;\">\n",
       "      <th></th>\n",
       "      <th>month</th>\n",
       "      <th>Product Category</th>\n",
       "      <th>Total Purchase Amount</th>\n",
       "    </tr>\n",
       "  </thead>\n",
       "  <tbody>\n",
       "    <tr>\n",
       "      <th>0</th>\n",
       "      <td>1</td>\n",
       "      <td>Books</td>\n",
       "      <td>15305798</td>\n",
       "    </tr>\n",
       "    <tr>\n",
       "      <th>1</th>\n",
       "      <td>1</td>\n",
       "      <td>Clothing</td>\n",
       "      <td>15258674</td>\n",
       "    </tr>\n",
       "    <tr>\n",
       "      <th>2</th>\n",
       "      <td>1</td>\n",
       "      <td>Electronics</td>\n",
       "      <td>10018307</td>\n",
       "    </tr>\n",
       "    <tr>\n",
       "      <th>3</th>\n",
       "      <td>1</td>\n",
       "      <td>Home</td>\n",
       "      <td>9925334</td>\n",
       "    </tr>\n",
       "    <tr>\n",
       "      <th>4</th>\n",
       "      <td>2</td>\n",
       "      <td>Books</td>\n",
       "      <td>13984601</td>\n",
       "    </tr>\n",
       "    <tr>\n",
       "      <th>5</th>\n",
       "      <td>2</td>\n",
       "      <td>Clothing</td>\n",
       "      <td>13908090</td>\n",
       "    </tr>\n",
       "    <tr>\n",
       "      <th>6</th>\n",
       "      <td>2</td>\n",
       "      <td>Electronics</td>\n",
       "      <td>9387838</td>\n",
       "    </tr>\n",
       "    <tr>\n",
       "      <th>7</th>\n",
       "      <td>2</td>\n",
       "      <td>Home</td>\n",
       "      <td>9073140</td>\n",
       "    </tr>\n",
       "    <tr>\n",
       "      <th>8</th>\n",
       "      <td>3</td>\n",
       "      <td>Books</td>\n",
       "      <td>15269684</td>\n",
       "    </tr>\n",
       "    <tr>\n",
       "      <th>9</th>\n",
       "      <td>3</td>\n",
       "      <td>Clothing</td>\n",
       "      <td>15291844</td>\n",
       "    </tr>\n",
       "    <tr>\n",
       "      <th>10</th>\n",
       "      <td>3</td>\n",
       "      <td>Electronics</td>\n",
       "      <td>10288690</td>\n",
       "    </tr>\n",
       "    <tr>\n",
       "      <th>11</th>\n",
       "      <td>3</td>\n",
       "      <td>Home</td>\n",
       "      <td>10196554</td>\n",
       "    </tr>\n",
       "    <tr>\n",
       "      <th>12</th>\n",
       "      <td>4</td>\n",
       "      <td>Books</td>\n",
       "      <td>14388702</td>\n",
       "    </tr>\n",
       "    <tr>\n",
       "      <th>13</th>\n",
       "      <td>4</td>\n",
       "      <td>Clothing</td>\n",
       "      <td>14543437</td>\n",
       "    </tr>\n",
       "    <tr>\n",
       "      <th>14</th>\n",
       "      <td>4</td>\n",
       "      <td>Electronics</td>\n",
       "      <td>9849064</td>\n",
       "    </tr>\n",
       "    <tr>\n",
       "      <th>15</th>\n",
       "      <td>4</td>\n",
       "      <td>Home</td>\n",
       "      <td>9589138</td>\n",
       "    </tr>\n",
       "    <tr>\n",
       "      <th>16</th>\n",
       "      <td>5</td>\n",
       "      <td>Books</td>\n",
       "      <td>14965713</td>\n",
       "    </tr>\n",
       "    <tr>\n",
       "      <th>17</th>\n",
       "      <td>5</td>\n",
       "      <td>Clothing</td>\n",
       "      <td>15405098</td>\n",
       "    </tr>\n",
       "    <tr>\n",
       "      <th>18</th>\n",
       "      <td>5</td>\n",
       "      <td>Electronics</td>\n",
       "      <td>10105643</td>\n",
       "    </tr>\n",
       "    <tr>\n",
       "      <th>19</th>\n",
       "      <td>5</td>\n",
       "      <td>Home</td>\n",
       "      <td>9727065</td>\n",
       "    </tr>\n",
       "    <tr>\n",
       "      <th>20</th>\n",
       "      <td>6</td>\n",
       "      <td>Books</td>\n",
       "      <td>15008204</td>\n",
       "    </tr>\n",
       "    <tr>\n",
       "      <th>21</th>\n",
       "      <td>6</td>\n",
       "      <td>Clothing</td>\n",
       "      <td>14829598</td>\n",
       "    </tr>\n",
       "    <tr>\n",
       "      <th>22</th>\n",
       "      <td>6</td>\n",
       "      <td>Electronics</td>\n",
       "      <td>9956728</td>\n",
       "    </tr>\n",
       "    <tr>\n",
       "      <th>23</th>\n",
       "      <td>6</td>\n",
       "      <td>Home</td>\n",
       "      <td>9652181</td>\n",
       "    </tr>\n",
       "    <tr>\n",
       "      <th>24</th>\n",
       "      <td>7</td>\n",
       "      <td>Books</td>\n",
       "      <td>15078457</td>\n",
       "    </tr>\n",
       "    <tr>\n",
       "      <th>25</th>\n",
       "      <td>7</td>\n",
       "      <td>Clothing</td>\n",
       "      <td>15098013</td>\n",
       "    </tr>\n",
       "    <tr>\n",
       "      <th>26</th>\n",
       "      <td>7</td>\n",
       "      <td>Electronics</td>\n",
       "      <td>9919354</td>\n",
       "    </tr>\n",
       "    <tr>\n",
       "      <th>27</th>\n",
       "      <td>7</td>\n",
       "      <td>Home</td>\n",
       "      <td>10574830</td>\n",
       "    </tr>\n",
       "    <tr>\n",
       "      <th>28</th>\n",
       "      <td>8</td>\n",
       "      <td>Books</td>\n",
       "      <td>15442309</td>\n",
       "    </tr>\n",
       "    <tr>\n",
       "      <th>29</th>\n",
       "      <td>8</td>\n",
       "      <td>Clothing</td>\n",
       "      <td>14742697</td>\n",
       "    </tr>\n",
       "    <tr>\n",
       "      <th>30</th>\n",
       "      <td>8</td>\n",
       "      <td>Electronics</td>\n",
       "      <td>10191228</td>\n",
       "    </tr>\n",
       "    <tr>\n",
       "      <th>31</th>\n",
       "      <td>8</td>\n",
       "      <td>Home</td>\n",
       "      <td>10132757</td>\n",
       "    </tr>\n",
       "    <tr>\n",
       "      <th>32</th>\n",
       "      <td>9</td>\n",
       "      <td>Books</td>\n",
       "      <td>12550589</td>\n",
       "    </tr>\n",
       "    <tr>\n",
       "      <th>33</th>\n",
       "      <td>9</td>\n",
       "      <td>Clothing</td>\n",
       "      <td>12423976</td>\n",
       "    </tr>\n",
       "    <tr>\n",
       "      <th>34</th>\n",
       "      <td>9</td>\n",
       "      <td>Electronics</td>\n",
       "      <td>8529264</td>\n",
       "    </tr>\n",
       "    <tr>\n",
       "      <th>35</th>\n",
       "      <td>9</td>\n",
       "      <td>Home</td>\n",
       "      <td>8468398</td>\n",
       "    </tr>\n",
       "    <tr>\n",
       "      <th>36</th>\n",
       "      <td>10</td>\n",
       "      <td>Books</td>\n",
       "      <td>11219978</td>\n",
       "    </tr>\n",
       "    <tr>\n",
       "      <th>37</th>\n",
       "      <td>10</td>\n",
       "      <td>Clothing</td>\n",
       "      <td>11552567</td>\n",
       "    </tr>\n",
       "    <tr>\n",
       "      <th>38</th>\n",
       "      <td>10</td>\n",
       "      <td>Electronics</td>\n",
       "      <td>7450677</td>\n",
       "    </tr>\n",
       "    <tr>\n",
       "      <th>39</th>\n",
       "      <td>10</td>\n",
       "      <td>Home</td>\n",
       "      <td>7560062</td>\n",
       "    </tr>\n",
       "    <tr>\n",
       "      <th>40</th>\n",
       "      <td>11</td>\n",
       "      <td>Books</td>\n",
       "      <td>11126820</td>\n",
       "    </tr>\n",
       "    <tr>\n",
       "      <th>41</th>\n",
       "      <td>11</td>\n",
       "      <td>Clothing</td>\n",
       "      <td>11092090</td>\n",
       "    </tr>\n",
       "    <tr>\n",
       "      <th>42</th>\n",
       "      <td>11</td>\n",
       "      <td>Electronics</td>\n",
       "      <td>7353714</td>\n",
       "    </tr>\n",
       "    <tr>\n",
       "      <th>43</th>\n",
       "      <td>11</td>\n",
       "      <td>Home</td>\n",
       "      <td>7363682</td>\n",
       "    </tr>\n",
       "    <tr>\n",
       "      <th>44</th>\n",
       "      <td>12</td>\n",
       "      <td>Books</td>\n",
       "      <td>11424581</td>\n",
       "    </tr>\n",
       "    <tr>\n",
       "      <th>45</th>\n",
       "      <td>12</td>\n",
       "      <td>Clothing</td>\n",
       "      <td>11269879</td>\n",
       "    </tr>\n",
       "    <tr>\n",
       "      <th>46</th>\n",
       "      <td>12</td>\n",
       "      <td>Electronics</td>\n",
       "      <td>7475438</td>\n",
       "    </tr>\n",
       "    <tr>\n",
       "      <th>47</th>\n",
       "      <td>12</td>\n",
       "      <td>Home</td>\n",
       "      <td>7606892</td>\n",
       "    </tr>\n",
       "  </tbody>\n",
       "</table>\n",
       "</div>"
      ],
      "text/plain": [
       "    month Product Category  Total Purchase Amount\n",
       "0       1            Books               15305798\n",
       "1       1         Clothing               15258674\n",
       "2       1      Electronics               10018307\n",
       "3       1             Home                9925334\n",
       "4       2            Books               13984601\n",
       "5       2         Clothing               13908090\n",
       "6       2      Electronics                9387838\n",
       "7       2             Home                9073140\n",
       "8       3            Books               15269684\n",
       "9       3         Clothing               15291844\n",
       "10      3      Electronics               10288690\n",
       "11      3             Home               10196554\n",
       "12      4            Books               14388702\n",
       "13      4         Clothing               14543437\n",
       "14      4      Electronics                9849064\n",
       "15      4             Home                9589138\n",
       "16      5            Books               14965713\n",
       "17      5         Clothing               15405098\n",
       "18      5      Electronics               10105643\n",
       "19      5             Home                9727065\n",
       "20      6            Books               15008204\n",
       "21      6         Clothing               14829598\n",
       "22      6      Electronics                9956728\n",
       "23      6             Home                9652181\n",
       "24      7            Books               15078457\n",
       "25      7         Clothing               15098013\n",
       "26      7      Electronics                9919354\n",
       "27      7             Home               10574830\n",
       "28      8            Books               15442309\n",
       "29      8         Clothing               14742697\n",
       "30      8      Electronics               10191228\n",
       "31      8             Home               10132757\n",
       "32      9            Books               12550589\n",
       "33      9         Clothing               12423976\n",
       "34      9      Electronics                8529264\n",
       "35      9             Home                8468398\n",
       "36     10            Books               11219978\n",
       "37     10         Clothing               11552567\n",
       "38     10      Electronics                7450677\n",
       "39     10             Home                7560062\n",
       "40     11            Books               11126820\n",
       "41     11         Clothing               11092090\n",
       "42     11      Electronics                7353714\n",
       "43     11             Home                7363682\n",
       "44     12            Books               11424581\n",
       "45     12         Clothing               11269879\n",
       "46     12      Electronics                7475438\n",
       "47     12             Home                7606892"
      ]
     },
     "execution_count": 20,
     "metadata": {},
     "output_type": "execute_result"
    }
   ],
   "source": [
    "# monthly sales for each product category\n",
    "monthly_sales_per_category=df.groupby(['month','Product Category'])['Total Purchase Amount'].sum().reset_index()\n",
    "monthly_sales_per_category"
   ]
  },
  {
   "cell_type": "code",
   "execution_count": 21,
   "metadata": {},
   "outputs": [
    {
     "data": {
      "text/plain": [
       "<Axes: xlabel='month', ylabel='Total Purchase Amount'>"
      ]
     },
     "execution_count": 21,
     "metadata": {},
     "output_type": "execute_result"
    },
    {
     "data": {
      "image/png": "[encoded data removed]",
      "text/plain": [
       "<Figure size 640x480 with 1 Axes>"
      ]
     },
     "metadata": {},
     "output_type": "display_data"
    }
   ],
   "source": [
    "sns.lineplot(\n",
    "    data=monthly_sales_per_category,\n",
    "    x='month',\n",
    "    y='Total Purchase Amount',\n",
    "    hue='Product Category',\n",
    "    marker='o'\n",
    "    \n",
    ")"
   ]
  }
 ],
 "metadata": {
  "kernelspec": {
   "display_name": "Python 3",
   "language": "python",
   "name": "python3"
  },
  "language_info": {
   "codemirror_mode": {
    "name": "ipython",
    "version": 3
   },
   "file_extension": ".py",
   "mimetype": "text/x-python",
   "name": "python",
   "nbconvert_exporter": "python",
   "pygments_lexer": "ipython3",
   "version": "3.10.9"
  }
 },
 "nbformat": 4,
 "nbformat_minor": 2
}
